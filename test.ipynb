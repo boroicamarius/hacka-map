{
 "cells": [
  {
   "cell_type": "code",
   "execution_count": 5,
   "metadata": {},
   "outputs": [],
   "source": [
    "from scipy import spatial\n",
    "import numpy as np\n",
    "\n",
    "x=0;y=1;\n",
    "\n",
    "def distance_from(a,b):\n",
    "    return np.sqrt((a[x]-b[x])*(a[x]-b[x])+(a[y]-b[y])*(a[y]-b[y]))\n"
   ]
  },
  {
   "cell_type": "code",
   "execution_count": 6,
   "metadata": {},
   "outputs": [
    {
     "data": {
      "text/plain": [
       "(50.056232370069566, 50.056232370069566)"
      ]
     },
     "execution_count": 6,
     "metadata": {},
     "output_type": "execute_result"
    }
   ],
   "source": [
    "sample_vector = [-1.095,59.0]\n",
    "test_vector = [1.84192, 9.03]\n",
    "tree = spatial.KDTree([sample_vector])\n",
    "\n",
    "distance_from(sample_vector,test_vector),tree.query(test_vector)[0]\n",
    "\n",
    "# RESULT: distance is the same as a distance to a point to another point\n"
   ]
  }
 ],
 "metadata": {
  "kernelspec": {
   "display_name": "Python 3",
   "language": "python",
   "name": "python3"
  },
  "language_info": {
   "codemirror_mode": {
    "name": "ipython",
    "version": 3
   },
   "file_extension": ".py",
   "mimetype": "text/x-python",
   "name": "python",
   "nbconvert_exporter": "python",
   "pygments_lexer": "ipython3",
   "version": "3.11.4"
  },
  "orig_nbformat": 4
 },
 "nbformat": 4,
 "nbformat_minor": 2
}
