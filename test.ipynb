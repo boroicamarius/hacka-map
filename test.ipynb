{
 "cells": [
  {
   "cell_type": "code",
   "execution_count": 1,
   "metadata": {},
   "outputs": [
    {
     "name": "stdout",
     "output_type": "stream",
     "text": [
      "Requirement already satisfied: osmnx in /Users/boroicamarius/micromamba/envs/hacka-map-server/lib/python3.11/site-packages (1.6.0)\n",
      "Requirement already satisfied: folium in /Users/boroicamarius/micromamba/envs/hacka-map-server/lib/python3.11/site-packages (0.14.0)\n",
      "Requirement already satisfied: geopandas>=0.12 in /Users/boroicamarius/micromamba/envs/hacka-map-server/lib/python3.11/site-packages (from osmnx) (0.13.2)\n",
      "Requirement already satisfied: networkx>=2.5 in /Users/boroicamarius/micromamba/envs/hacka-map-server/lib/python3.11/site-packages (from osmnx) (3.1)\n",
      "Requirement already satisfied: numpy>=1.20 in /Users/boroicamarius/micromamba/envs/hacka-map-server/lib/python3.11/site-packages (from osmnx) (1.25.2)\n",
      "Requirement already satisfied: pandas>=1.1 in /Users/boroicamarius/micromamba/envs/hacka-map-server/lib/python3.11/site-packages (from osmnx) (2.0.3)\n",
      "Requirement already satisfied: requests>=2.27 in /Users/boroicamarius/micromamba/envs/hacka-map-server/lib/python3.11/site-packages (from osmnx) (2.31.0)\n",
      "Requirement already satisfied: shapely>=2.0 in /Users/boroicamarius/micromamba/envs/hacka-map-server/lib/python3.11/site-packages (from osmnx) (2.0.1)\n",
      "Requirement already satisfied: branca>=0.6.0 in /Users/boroicamarius/micromamba/envs/hacka-map-server/lib/python3.11/site-packages (from folium) (0.6.0)\n",
      "Requirement already satisfied: jinja2>=2.9 in /Users/boroicamarius/micromamba/envs/hacka-map-server/lib/python3.11/site-packages (from folium) (3.1.2)\n",
      "Requirement already satisfied: fiona>=1.8.19 in /Users/boroicamarius/micromamba/envs/hacka-map-server/lib/python3.11/site-packages (from geopandas>=0.12->osmnx) (1.9.4.post1)\n",
      "Requirement already satisfied: packaging in /Users/boroicamarius/micromamba/envs/hacka-map-server/lib/python3.11/site-packages (from geopandas>=0.12->osmnx) (23.0)\n",
      "Requirement already satisfied: pyproj>=3.0.1 in /Users/boroicamarius/micromamba/envs/hacka-map-server/lib/python3.11/site-packages (from geopandas>=0.12->osmnx) (3.6.0)\n",
      "Requirement already satisfied: MarkupSafe>=2.0 in /Users/boroicamarius/micromamba/envs/hacka-map-server/lib/python3.11/site-packages (from jinja2>=2.9->folium) (2.1.1)\n",
      "Requirement already satisfied: python-dateutil>=2.8.2 in /Users/boroicamarius/micromamba/envs/hacka-map-server/lib/python3.11/site-packages (from pandas>=1.1->osmnx) (2.8.2)\n",
      "Requirement already satisfied: pytz>=2020.1 in /Users/boroicamarius/micromamba/envs/hacka-map-server/lib/python3.11/site-packages (from pandas>=1.1->osmnx) (2023.3)\n",
      "Requirement already satisfied: tzdata>=2022.1 in /Users/boroicamarius/micromamba/envs/hacka-map-server/lib/python3.11/site-packages (from pandas>=1.1->osmnx) (2023.3)\n",
      "Requirement already satisfied: charset-normalizer<4,>=2 in /Users/boroicamarius/micromamba/envs/hacka-map-server/lib/python3.11/site-packages (from requests>=2.27->osmnx) (3.2.0)\n",
      "Requirement already satisfied: idna<4,>=2.5 in /Users/boroicamarius/micromamba/envs/hacka-map-server/lib/python3.11/site-packages (from requests>=2.27->osmnx) (3.4)\n",
      "Requirement already satisfied: urllib3<3,>=1.21.1 in /Users/boroicamarius/micromamba/envs/hacka-map-server/lib/python3.11/site-packages (from requests>=2.27->osmnx) (2.0.4)\n",
      "Requirement already satisfied: certifi>=2017.4.17 in /Users/boroicamarius/micromamba/envs/hacka-map-server/lib/python3.11/site-packages (from requests>=2.27->osmnx) (2023.7.22)\n",
      "Requirement already satisfied: attrs>=19.2.0 in /Users/boroicamarius/micromamba/envs/hacka-map-server/lib/python3.11/site-packages (from fiona>=1.8.19->geopandas>=0.12->osmnx) (22.1.0)\n",
      "Requirement already satisfied: click~=8.0 in /Users/boroicamarius/micromamba/envs/hacka-map-server/lib/python3.11/site-packages (from fiona>=1.8.19->geopandas>=0.12->osmnx) (8.0.4)\n",
      "Requirement already satisfied: click-plugins>=1.0 in /Users/boroicamarius/micromamba/envs/hacka-map-server/lib/python3.11/site-packages (from fiona>=1.8.19->geopandas>=0.12->osmnx) (1.1.1)\n",
      "Requirement already satisfied: cligj>=0.5 in /Users/boroicamarius/micromamba/envs/hacka-map-server/lib/python3.11/site-packages (from fiona>=1.8.19->geopandas>=0.12->osmnx) (0.7.2)\n",
      "Requirement already satisfied: six in /Users/boroicamarius/micromamba/envs/hacka-map-server/lib/python3.11/site-packages (from fiona>=1.8.19->geopandas>=0.12->osmnx) (1.16.0)\n"
     ]
    }
   ],
   "source": [
    "!pip3 install osmnx folium"
   ]
  },
  {
   "cell_type": "code",
   "execution_count": 4,
   "metadata": {},
   "outputs": [],
   "source": [
    "import shapely"
   ]
  },
  {
   "cell_type": "code",
   "execution_count": 3,
   "metadata": {},
   "outputs": [],
   "source": [
    "shapely.geometry.Line"
   ]
  },
  {
   "cell_type": "code",
   "execution_count": 3,
   "metadata": {},
   "outputs": [
    {
     "data": {
      "text/plain": [
       "<bound method Response.json of <Response [200]>>"
      ]
     },
     "execution_count": 3,
     "metadata": {},
     "output_type": "execute_result"
    }
   ],
   "source": [
    "import requests\n",
    "requests.get(\"https://embed.waze.com/ro/iframe?zoom=12&lat=44.4268&lon=26.1025\").content"
   ]
  }
 ],
 "metadata": {
  "kernelspec": {
   "display_name": "Python 3",
   "language": "python",
   "name": "python3"
  },
  "language_info": {
   "codemirror_mode": {
    "name": "ipython",
    "version": 3
   },
   "file_extension": ".py",
   "mimetype": "text/x-python",
   "name": "python",
   "nbconvert_exporter": "python",
   "pygments_lexer": "ipython3",
   "version": "3.11.4"
  },
  "orig_nbformat": 4
 },
 "nbformat": 4,
 "nbformat_minor": 2
}
